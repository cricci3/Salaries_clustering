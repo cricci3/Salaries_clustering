{
  "nbformat": 4,
  "nbformat_minor": 0,
  "metadata": {
    "colab": {
      "provenance": [],
      "include_colab_link": true
    },
    "kernelspec": {
      "name": "python3",
      "display_name": "Python 3"
    },
    "language_info": {
      "name": "python"
    }
  },
  "cells": [
    {
      "cell_type": "markdown",
      "metadata": {
        "id": "view-in-github",
        "colab_type": "text"
      },
      "source": [
        "<a href=\"https://colab.research.google.com/github/cricci3/Salaries_clustering/blob/main/Project2_DA.ipynb\" target=\"_parent\"><img src=\"https://colab.research.google.com/assets/colab-badge.svg\" alt=\"Open In Colab\"/></a>"
      ]
    },
    {
      "cell_type": "code",
      "source": [
        "'''\n",
        "Data Analytics\n",
        "Assignment 2 - Group 2\n",
        "Salaries (clustering)\n",
        "\n",
        "Students: Claudio Ricci (claudio.ricci@usi.ch) and Pernille Bergesen (pernille.bergesen@usi.ch)\n",
        "'''"
      ],
      "metadata": {
        "id": "-RBhPg-lYl1Q"
      },
      "execution_count": null,
      "outputs": []
    },
    {
      "cell_type": "code",
      "execution_count": null,
      "metadata": {
        "id": "q3vuH0KWYDIx",
        "colab": {
          "base_uri": "https://localhost:8080/"
        },
        "outputId": "fc437974-bed0-4455-9f82-1e3061744146"
      },
      "outputs": [
        {
          "output_type": "stream",
          "name": "stdout",
          "text": [
            "Mounted at /content/drive\n"
          ]
        }
      ],
      "source": [
        "import torch\n",
        "import pandas as pd\n",
        "import matplotlib.pyplot as plt\n",
        "\n",
        "from google.colab import drive\n",
        "drive.mount('/content/drive')\n"
      ]
    },
    {
      "cell_type": "code",
      "source": [
        "\n",
        "#loading the data from the san-francisco datasets\n",
        "dataset_file_2011 = '/content/drive/MyDrive/DataAnalytics_02_Salaries/san-francisco-2011.csv'\n",
        "dataset_file_2012 = '/content/drive/MyDrive/DataAnalytics_02_Salaries/san-francisco-2012.csv'\n",
        "dataset_file_2013 = '/content/drive/MyDrive/DataAnalytics_02_Salaries/san-francisco-2013.csv'\n",
        "dataset_file_2014 = '/content/drive/MyDrive/DataAnalytics_02_Salaries/san-francisco-2014.csv'\n",
        "\n",
        "#just for testing:\n",
        "#printing first two lines of 2011 dataset\n",
        "print(\"san-francisco-2011.csv: \")\n",
        "print(pd.read_csv(dataset_file_2011).head(2))\n",
        "\n",
        "#printing first two lines of 2012 dataset\n",
        "print(\"san-francisco-2012.csv: \")\n",
        "print(pd.read_csv(dataset_file_2012).head(2))\n",
        "\n",
        "#printing first two lines of 2013 dataset\n",
        "print(\"san-francisco-2013.csv: \")\n",
        "print(pd.read_csv(dataset_file_2013).head(2))\n",
        "\n",
        "#printing first two lines of 2014 dataset\n",
        "print(\"san-francisco-2014.csv: \")\n",
        "print(pd.read_csv(dataset_file_2014).head(2))"
      ],
      "metadata": {
        "colab": {
          "base_uri": "https://localhost:8080/"
        },
        "id": "e4a4XqD7a_Ep",
        "outputId": "e994259d-4837-4c75-bae3-07045fdef013"
      },
      "execution_count": null,
      "outputs": [
        {
          "output_type": "stream",
          "name": "stdout",
          "text": [
            "san-francisco-2011.csv: \n",
            "    Employee Name                                       Job Title   Base Pay  \\\n",
            "0  NATHANIEL FORD  GENERAL MANAGER-METROPOLITAN TRANSIT AUTHORITY  167411.18   \n",
            "1    GARY JIMENEZ                 CAPTAIN III (POLICE DEPARTMENT)  155966.02   \n",
            "\n",
            "   Overtime Pay  Other Pay      Benefits  Total Pay  Total Pay & Benefits  \\\n",
            "0          0.00  400184.25  Not Provided  567595.43             567595.43   \n",
            "1     245131.88  137811.38  Not Provided  538909.28             538909.28   \n",
            "\n",
            "   Year  Notes         Agency  \n",
            "0  2011    NaN  San Francisco  \n",
            "1  2011    NaN  San Francisco  \n",
            "san-francisco-2012.csv: \n",
            "    Employee Name                     Job Title   Base Pay  Overtime Pay  \\\n",
            "0  Gary Altenberg  Lieutenant, Fire Suppression  128808.87     220909.48   \n",
            "1    Gregory Suhr               Chief of Police  302578.00          0.00   \n",
            "\n",
            "   Other Pay  Benefits  Total Pay  Total Pay & Benefits  Year  Notes  \\\n",
            "0   13126.31  44430.12  362844.66             407274.78  2012    NaN   \n",
            "1   18974.11  69810.19  321552.11             391362.30  2012    NaN   \n",
            "\n",
            "          Agency  \n",
            "0  San Francisco  \n",
            "1  San Francisco  \n",
            "san-francisco-2013.csv: \n",
            "          employee_name               job_title   base_pay  overtime_pay  \\\n",
            "0        Gregory P Suhr         Chief of Police  319275.01           0.0   \n",
            "1  Joanne M Hayes-White  Chief, Fire Department  313686.01           0.0   \n",
            "\n",
            "   other_pay  total_benefits  total_pay  total_pay_benefits  year  notes  \\\n",
            "0   20007.06        86533.21  339282.07           425815.28  2013    NaN   \n",
            "1   23236.00        85431.39  336922.01           422353.40  2013    NaN   \n",
            "\n",
            "  jurisdiction_name  \n",
            "0     San Francisco  \n",
            "1     San Francisco  \n",
            "san-francisco-2014.csv: \n",
            "  Employee Name          Job Title   Base Pay Overtime Pay  Other Pay  \\\n",
            "0   David Shinn     Deputy Chief 3  129150.01         0.00  342802.63   \n",
            "1    Amy P Hart  Asst Med Examiner  318835.49     10712.95   60563.54   \n",
            "\n",
            "   Benefits  Total Pay  Total Pay & Benefits  Year  Notes         Agency  \\\n",
            "0  38780.04  471952.64             510732.68  2014    NaN  San Francisco   \n",
            "1  89540.23  390111.98             479652.21  2014    NaN  San Francisco   \n",
            "\n",
            "  Status  \n",
            "0     PT  \n",
            "1     FT  \n"
          ]
        }
      ]
    }
  ]
}